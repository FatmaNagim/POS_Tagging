{
 "cells": [
  {
   "cell_type": "code",
   "execution_count": 9,
   "metadata": {},
   "outputs": [],
   "source": [
    "import spacy"
   ]
  },
  {
   "cell_type": "markdown",
   "metadata": {},
   "source": [
    "<h3>POS tags</h3>"
   ]
  },
  {
   "cell_type": "code",
   "execution_count": 36,
   "metadata": {
    "scrolled": true
   },
   "outputs": [
    {
     "name": "stdout",
     "output_type": "stream",
     "text": [
      "John \t\t POS: PROPN\n",
      "flew \t\t POS: VERB\n",
      "to \t\t POS: ADP\n",
      "mars \t\t POS: NOUN\n",
      ". \t\t POS: PUNCT\n",
      "He \t\t POS: PRON\n",
      "took \t\t POS: VERB\n",
      "some \t\t POS: DET\n",
      "food \t\t POS: NOUN\n",
      "with \t\t POS: ADP\n",
      "him \t\t POS: PRON\n"
     ]
    }
   ],
   "source": [
    "nlp = spacy.load(\"en_core_web_sm\")\n",
    "doc = nlp(\"John flew to mars. He took some food with him\")\n",
    "\n",
    "for token in doc:\n",
    "    print(token,\"\\t\\t\",'POS:',token.pos_)"
   ]
  },
  {
   "cell_type": "code",
   "execution_count": 78,
   "metadata": {},
   "outputs": [
    {
     "name": "stdout",
     "output_type": "stream",
     "text": [
      "Wow \t\t POS: INTJ \t\t  POS_Description:  interjection\n",
      "! \t\t POS: PUNCT \t\t  POS_Description:  punctuation\n",
      "Dr. \t\t POS: PROPN \t\t  POS_Description:  proper noun\n",
      "karma \t\t POS: PROPN \t\t  POS_Description:  proper noun\n",
      "made \t\t POS: VERB \t\t  POS_Description:  verb\n",
      "265 \t\t POS: NUM \t\t  POS_Description:  numeral\n",
      "million \t\t POS: NUM \t\t  POS_Description:  numeral\n",
      "$ \t\t POS: PUNCT \t\t  POS_Description:  punctuation\n",
      "on \t\t POS: ADP \t\t  POS_Description:  adposition\n",
      "the \t\t POS: DET \t\t  POS_Description:  determiner\n",
      "very \t\t POS: ADV \t\t  POS_Description:  adverb\n",
      "first \t\t POS: ADV \t\t  POS_Description:  adverb\n",
      "day,karam@gmail.com \t\t POS: X \t\t  POS_Description:  other\n"
     ]
    }
   ],
   "source": [
    "doc = nlp(\"Wow! Dr. karma made 265 million $ on the very first day\")\n",
    "\n",
    "for token in doc:\n",
    "    print(token,\"\\t\\t\",'POS:',token.pos_,\"\\t\\t\", \" POS_Description: \", spacy.explain(token.pos_))"
   ]
  },
  {
   "cell_type": "markdown",
   "metadata": {},
   "source": [
    "<h3>Tags</h3>"
   ]
  },
  {
   "cell_type": "code",
   "execution_count": 93,
   "metadata": {
    "scrolled": true
   },
   "outputs": [
    {
     "name": "stdout",
     "output_type": "stream",
     "text": [
      "( Wow ) \n",
      " POS: INTJ \t POS_Description: interjection \t Tag: UH \t Tag_Description:  interjection\n",
      "( ! ) \n",
      " POS: PUNCT \t POS_Description: punctuation \t Tag: . \t Tag_Description:  punctuation mark, sentence closer\n",
      "( Dr. ) \n",
      " POS: PROPN \t POS_Description: proper noun \t Tag: NNP \t Tag_Description:  noun, proper singular\n",
      "( Strange ) \n",
      " POS: PROPN \t POS_Description: proper noun \t Tag: NNP \t Tag_Description:  noun, proper singular\n",
      "( made ) \n",
      " POS: VERB \t POS_Description: verb \t Tag: VBD \t Tag_Description:  verb, past tense\n",
      "( 265 ) \n",
      " POS: NUM \t POS_Description: numeral \t Tag: CD \t Tag_Description:  cardinal number\n",
      "( million ) \n",
      " POS: NUM \t POS_Description: numeral \t Tag: CD \t Tag_Description:  cardinal number\n",
      "( dollars ) \n",
      " POS: NOUN \t POS_Description: noun \t Tag: NNS \t Tag_Description:  noun, plural\n",
      "( on ) \n",
      " POS: ADP \t POS_Description: adposition \t Tag: IN \t Tag_Description:  conjunction, subordinating or preposition\n",
      "( the ) \n",
      " POS: DET \t POS_Description: determiner \t Tag: DT \t Tag_Description:  determiner\n",
      "( very ) \n",
      " POS: ADV \t POS_Description: adverb \t Tag: RB \t Tag_Description:  adverb\n",
      "( first ) \n",
      " POS: ADJ \t POS_Description: adjective \t Tag: JJ \t Tag_Description:  adjective (English), other noun-modifier (Chinese)\n",
      "( day ) \n",
      " POS: NOUN \t POS_Description: noun \t Tag: NN \t Tag_Description:  noun, singular or mass\n",
      "( , ) \n",
      " POS: PUNCT \t POS_Description: punctuation \t Tag: , \t Tag_Description:  punctuation mark, comma\n",
      "( karam@gmail.com ) \n",
      " POS: X \t POS_Description: other \t Tag: ADD \t Tag_Description:  email\n",
      "( \t ) \n",
      " POS: SPACE \t POS_Description: space \t Tag: _SP \t Tag_Description:  whitespace\n"
     ]
    }
   ],
   "source": [
    "doc = nlp(\"Wow! Dr. Strange made 265 million dollars on the very first day, karam@gmail.com \\t\")\n",
    "\n",
    "for token in doc:\n",
    "    print('(',token,')',\"\\n POS:\", token.pos_, \"\\t POS_Description:\", spacy.explain(token.pos_),'\\t Tag:', token.tag_, \"\\t Tag_Description: \", spacy.explain(token.tag_))"
   ]
  },
  {
   "cell_type": "markdown",
   "metadata": {},
   "source": [
    "<h3>In below sentences Spacy figures out the past vs present tense for quit </h3>"
   ]
  },
  {
   "cell_type": "code",
   "execution_count": 105,
   "metadata": {},
   "outputs": [
    {
     "name": "stdout",
     "output_type": "stream",
     "text": [
      "quits | VBZ | verb, 3rd person singular present\n"
     ]
    }
   ],
   "source": [
    "doc = nlp(\"He quits the job\")\n",
    "\n",
    "print(doc[1].text, \"|\", doc[1].tag_, \"|\", spacy.explain(doc[1].tag_))"
   ]
  },
  {
   "cell_type": "code",
   "execution_count": 106,
   "metadata": {
    "scrolled": true
   },
   "outputs": [
    {
     "name": "stdout",
     "output_type": "stream",
     "text": [
      "quit | VBD | verb, past tense\n"
     ]
    }
   ],
   "source": [
    "doc = nlp(\"he quit the job\")\n",
    "\n",
    "print(doc[1].text, \"|\", doc[1].tag_, \"|\", spacy.explain(doc[1].tag_))"
   ]
  },
  {
   "cell_type": "code",
   "execution_count": 63,
   "metadata": {},
   "outputs": [
    {
     "name": "stdout",
     "output_type": "stream",
     "text": [
      "quiting | VBG | verb, gerund or present participle\n"
     ]
    }
   ],
   "source": [
    "doc = nlp(\"he is quiting the job\")\n",
    "\n",
    "print(doc[2].text, \"|\", doc[2].tag_, \"|\", spacy.explain(doc[2].tag_))"
   ]
  },
  {
   "cell_type": "markdown",
   "metadata": {},
   "source": [
    "<h3>Removing all SPACE, PUNCT and X token from text</h3>"
   ]
  },
  {
   "cell_type": "code",
   "execution_count": 87,
   "metadata": {
    "scrolled": false
   },
   "outputs": [],
   "source": [
    "earnings_text=\"\"\"Microsoft Corp. today announced the following results for the quarter ended December 31, 2021, as compared to the corresponding period of last fiscal year:\n",
    "\n",
    "·         Revenue was $51.7 billion and increased 20%\n",
    "·         Operating income was $22.2 billion and increased 24%\n",
    "·         Net income was $18.8 billion and increased 21%\n",
    "·         Diluted earnings per share was $2.48 and increased 22%\n",
    "“Digital technology is the most malleable resource at the world’s disposal to overcome constraints and reimagine everyday work and life,” said Satya Nadella, chairman and chief executive officer of Microsoft. “As tech as a percentage of global GDP continues to increase, we are innovating and investing across diverse and growing markets, with a common underlying technology stack and an operating model that reinforces a common strategy, culture, and sense of purpose.”\n",
    "“Solid commercial execution, represented by strong bookings growth driven by long-term Azure commitments, increased Microsoft Cloud revenue to $22.1 billion, up 32% year over year” said Amy Hood, executive vice president and chief financial officer of Microsoft.\"\"\"\n",
    "\n",
    "doc = nlp(earnings_text)\n",
    "\n",
    "filtered_tokens = []\n",
    "\n",
    "for token in doc:\n",
    "    if token.pos_ not in [\"SPACE\", \"PUNCT\", \"X\"]:\n",
    "        filtered_tokens.append(token)"
   ]
  },
  {
   "cell_type": "code",
   "execution_count": 91,
   "metadata": {
    "scrolled": false
   },
   "outputs": [
    {
     "data": {
      "text/plain": [
       "[Microsoft,\n",
       " Corp.,\n",
       " today,\n",
       " announced,\n",
       " the,\n",
       " following,\n",
       " results,\n",
       " for,\n",
       " the,\n",
       " quarter]"
      ]
     },
     "execution_count": 91,
     "metadata": {},
     "output_type": "execute_result"
    }
   ],
   "source": [
    "filtered_tokens[:10]"
   ]
  },
  {
   "cell_type": "code",
   "execution_count": 101,
   "metadata": {},
   "outputs": [
    {
     "data": {
      "text/plain": [
       "{91: 1,\n",
       " 97: 2,\n",
       " 96: 2,\n",
       " 100: 1,\n",
       " 93: 2,\n",
       " 92: 2,\n",
       " 85: 1,\n",
       " 90: 1,\n",
       " 86: 1,\n",
       " 84: 1,\n",
       " 101: 1,\n",
       " 103: 1}"
      ]
     },
     "execution_count": 101,
     "metadata": {},
     "output_type": "execute_result"
    }
   ],
   "source": [
    "count = doc.count_by(spacy.attrs.POS)\n",
    "count"
   ]
  },
  {
   "cell_type": "code",
   "execution_count": 73,
   "metadata": {},
   "outputs": [
    {
     "data": {
      "text/plain": [
       "'PROPN'"
      ]
     },
     "execution_count": 73,
     "metadata": {},
     "output_type": "execute_result"
    }
   ],
   "source": [
    "doc.vocab[96].text"
   ]
  },
  {
   "cell_type": "code",
   "execution_count": 49,
   "metadata": {},
   "outputs": [
    {
     "name": "stdout",
     "output_type": "stream",
     "text": [
      "PROPN | 13\n",
      "NOUN | 48\n",
      "VERB | 23\n",
      "DET | 9\n",
      "ADP | 17\n",
      "NUM | 16\n",
      "PUNCT | 27\n",
      "SCONJ | 1\n",
      "ADJ | 19\n",
      "SPACE | 10\n",
      "AUX | 6\n",
      "SYM | 5\n",
      "CCONJ | 12\n",
      "ADV | 2\n",
      "PART | 3\n",
      "PRON | 2\n"
     ]
    }
   ],
   "source": [
    "for k,v in count.items():\n",
    "    print(doc.vocab[k].text, \"|\",v)"
   ]
  }
 ],
 "metadata": {
  "kernelspec": {
   "display_name": "Python 3",
   "language": "python",
   "name": "python3"
  },
  "language_info": {
   "codemirror_mode": {
    "name": "ipython",
    "version": 3
   },
   "file_extension": ".py",
   "mimetype": "text/x-python",
   "name": "python",
   "nbconvert_exporter": "python",
   "pygments_lexer": "ipython3",
   "version": "3.8.8"
  }
 },
 "nbformat": 4,
 "nbformat_minor": 4
}
